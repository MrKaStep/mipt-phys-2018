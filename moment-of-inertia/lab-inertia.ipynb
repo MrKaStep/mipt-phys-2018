{
 "cells": [
  {
   "cell_type": "markdown",
   "metadata": {},
   "source": [
    "# <center>Работа 1.2 Определение моментов инерции твёрдых тел с помощью трифилярного подвеса</center>"
   ]
  },
  {
   "cell_type": "markdown",
   "metadata": {},
   "source": [
    "## Цель работы:\n",
    "\n",
    "* измерение момента инерции ряда тел и сравнение результатов с расчётами по теоретическим формулам;\n",
    "\n",
    "* проверка аддитивности моментов инерции и справедливости формулы Гюйгенса–Штейнера."
   ]
  },
  {
   "cell_type": "markdown",
   "metadata": {},
   "source": [
    "**В работе используются:** трифилярный подвес, счётчик числа колебаний, секундомер (совмещён со счётчиком), набор тел, момент инерции которых подлежит измерить (разрезанный диск, кольцо, брусок, плоский диск со стержнем в центре)."
   ]
  },
  {
   "cell_type": "markdown",
   "metadata": {},
   "source": [
    "## Теория:"
   ]
  },
  {
   "cell_type": "markdown",
   "metadata": {},
   "source": [
    "Несмотря на то, что для вычисления момента инерции есть вполне конкретная формула: $\\int_V r^2\\rho dV$, в большинстве случаев вычисление этого интеграла не представляется возможном из-за сложной геометрии рассматриваемого тела. В этом случае момент инерции тела можно вычислить экспериментально при помощи трифилярного подвеса:"
   ]
  },
  {
   "cell_type": "markdown",
   "metadata": {},
   "source": [
    "![Трифилярный подвес](susp-image.png \"Рис.1 Трифилярный подвес\")"
   ]
  },
  {
   "cell_type": "markdown",
   "metadata": {},
   "source": [
    "Трифилярный подвес позволяет вычислить момент инерции тела, измерив период вращательных колебаний подвеса, на нижней платформе которого расположено исследуемое тело. Уравнение малых колебаний для трифилярного подвеса выглядит следующим образом:\n",
    "$$\n",
    "I\\ddot{\\varphi} + mg\\frac{Rr}{z_0}\\varphi = 0,\n",
    "$$"
   ]
  },
  {
   "cell_type": "markdown",
   "metadata": {},
   "source": [
    "где $I$ — момент инерции тела вместе с платформой, $m$ — их суммарная масса, $z_0$ — расстояние между центрами верхней и нижней платформ в положении равновесия, а $R$ и $r$ — расстояния от оси вращения до точки крепления нити на нижней и на верхней платформах соответственно. Из этого уравнения получается уравнение для момента инерции:\n",
    "$$\n",
    "I = kmT^2,\n",
    "$$\n",
    "где T - период колебаний подвеса с исследуемым телом, а $k = \\displaystyle\\frac{gRr}{4\\pi^2z_0}$ - коэффициент постоянный для установки."
   ]
  },
  {
   "cell_type": "markdown",
   "metadata": {},
   "source": [
    "Из того, что момент инерции - это интеграл некоторой функции по объёму тела, должна иметь место **аддитивность момента инерции**: если два тела $A$ и $B$ имеют общую ось вращения, то момент инерции $I$ составного тела должен равняться сумме моментов инерций:\n",
    "$$\n",
    "I = I_A + I_B\n",
    "$$"
   ]
  },
  {
   "cell_type": "markdown",
   "metadata": {},
   "source": [
    "Для вычисления момента инерции относительно произвольной оси, при условии, что известен момент инерции тела относительно некоторой другой оси, параллельной данной, используется **теорема Гюйгенса-Штейнера**:\n",
    "$$\n",
    "I = I_0 + ma_0^2,\n",
    "$$\n",
    "где $I$ - момент инерции тела относительно рассматриваемой оси, I_0 - известный ранее момент инерции, $a_0$ - расстояние между осями, $m$ - масса рассматриваемого тела.\n"
   ]
  },
  {
   "cell_type": "markdown",
   "metadata": {},
   "source": [
    "## Обработка результатов"
   ]
  },
  {
   "cell_type": "markdown",
   "metadata": {},
   "source": [
    "### Параметры установки"
   ]
  },
  {
   "cell_type": "markdown",
   "metadata": {},
   "source": [
    "\n",
    "$r = 30.2\\pm 0.3$ мм - радиус верхней платформы;\n",
    "\n",
    "$R = 114.6\\pm 0.5$ мм - радиус нижней платформы;\n",
    "\n",
    "$z_0 = 2150\\pm 20$ мм - расстояние между платформами;\n",
    "\n",
    "$M_0 = 1066.8\\pm 0.5$ г - масса нижней платформы;\n",
    "\n",
    "$\\pi = 3.14159265\\pm 10^{-8}$;\n",
    "\n",
    "$g = 9.8\\pm 0.1$ м/с."
   ]
  },
  {
   "cell_type": "markdown",
   "metadata": {},
   "source": [
    "Посчитаем погрешность вычисления коэффициента $k$:\n",
    "$$\n",
    "\\sigma_k = \\sqrt{\n",
    "    \\left(\\frac{gR}{4\\pi^2z_0} \\sigma_r\\right)^2 +\n",
    "    \\left(\\frac{gr}{4\\pi^2z_0} \\sigma_R\\right)^2 +\n",
    "    \\left(\\frac{gRr}{4\\pi^2z_0^2}\\sigma_{z_0}\\right)^2 + \n",
    "    \\left(2\\frac{gRr}{4\\pi^3z_0}\\sigma_\\pi\\right)\n",
    "}\n",
    "$$"
   ]
  },
  {
   "cell_type": "code",
   "execution_count": 44,
   "metadata": {},
   "outputs": [
    {
     "name": "stdout",
     "output_type": "stream",
     "text": [
      "k: 399.59444355693995 +- 5.7108313304674825 мм^2/с^2\n"
     ]
    }
   ],
   "source": [
    "import numpy as np\n",
    "import pandas as pd\n",
    "import matplotlib.pyplot as plt\n",
    "import matplotlib.mlab as mlab\n",
    "import math\n",
    "\n",
    "\n",
    "r = 30.2\n",
    "sig_r = 0.3\n",
    "\n",
    "R = 114.6\n",
    "sig_R = 0.5\n",
    "\n",
    "z_0 = 2150\n",
    "sig_z = 20\n",
    "\n",
    "pi = 3.14159265\n",
    "sig_pi = 10**-8\n",
    "\n",
    "g = 9.8 * 10**3 # мм/с^2\n",
    "sig_g = 0.1 * 10**3\n",
    "\n",
    "k = g * R * r / (4 * pi**2 * z_0)\n",
    "\n",
    "sig_k = math.sqrt(\n",
    "    (k / r * sig_r) ** 2 +\n",
    "    (k / R * sig_R) ** 2 +\n",
    "    (k / z_0 * sig_z) ** 2 + \n",
    "    (2 * k / pi * sig_pi) ** 2\n",
    ")\n",
    "\n",
    "print('k: {} +- {} мм^2/с^2'.format(k, sig_k))"
   ]
  },
  {
   "cell_type": "markdown",
   "metadata": {},
   "source": [
    "Таким образом, $k = 400\\frac{\\mbox{мм}^2}{\\mbox{с}^2} = 4\\cdot 10^{-4}\\frac{\\mbox{м}^2}{\\mbox{с}^2}$, $\\sigma_k\\approx 6\\frac{\\mbox{мм}^2}{\\mbox{с}^2} = 6\\cdot 10^{-6}\\frac{\\mbox{м}^2}{\\mbox{с}^2}$."
   ]
  },
  {
   "cell_type": "markdown",
   "metadata": {},
   "source": [
    "### Пустая установка, необходимое количество периодов"
   ]
  },
  {
   "cell_type": "markdown",
   "metadata": {},
   "source": [
    "Для достижения необходимой относительной погрешности измерения периода колебаний в $0.5\\%$ нужно число периодов $N$, необходимое для достижения данной погрешности. Для начала необходимо рассчитать погрешность измерения полного времени колебаний $\\sigma_t$. Для этого были 7 раз проведены замеры времени колебаний в $n=10$ периодов на пустой установке: "
   ]
  },
  {
   "cell_type": "code",
   "execution_count": 28,
   "metadata": {},
   "outputs": [
    {
     "name": "stdout",
     "output_type": "stream",
     "text": [
      "Среднеквадратичное отклонение t: 0.03005573054802589\n",
      "Рассчётное количество периодов:  1.379978314407029\n"
     ]
    }
   ],
   "source": [
    "n = 10\n",
    "t_empty = np.array([43.565, 43.559, 43.502, 43.532, 43.585, 43.590, 43.585])\n",
    "sig_t = np.std(t_empty)\n",
    "print('Среднеквадратичное отклонение t: {}'.format(sigma_t))\n",
    "\n",
    "T_empty = np.mean(t_empty) / n\n",
    "sig_T = sig_t / n\n",
    "\n",
    "N = sig_t / (0.005 * T_empty)\n",
    "print('Рассчётное количество периодов: ', N)\n"
   ]
  },
  {
   "cell_type": "markdown",
   "metadata": {},
   "source": [
    "Для большей уверенности будем рассматривать не 2 периода, как говорят рассчёты, а 5."
   ]
  },
  {
   "cell_type": "code",
   "execution_count": 32,
   "metadata": {},
   "outputs": [
    {
     "name": "stdout",
     "output_type": "stream",
     "text": [
      "Относительная погрешность: 0.1379978314407029%\n"
     ]
    }
   ],
   "source": [
    "N = 5\n",
    "sig_T = sig_t / N\n",
    "eps_T = sig_t / (N * T_empty)\n",
    "print('Относительная погрешность: {}%'.format(eps_T * 100))\n"
   ]
  },
  {
   "cell_type": "markdown",
   "metadata": {},
   "source": [
    "Итого имеем $\\varepsilon_T \\approx 0.13\\% = 1.3\\cdot 10^{-3}$."
   ]
  },
  {
   "cell_type": "markdown",
   "metadata": {},
   "source": [
    "Теперь рассчитаем момент инерции для пустой платформы:"
   ]
  },
  {
   "cell_type": "code",
   "execution_count": 34,
   "metadata": {},
   "outputs": [],
   "source": [
    "def getMomentOfInertia(k, sig_k, m, sig_m, T, sig_T):\n",
    "    I = k * m * T**2\n",
    "    sig_I = math.sqrt(\n",
    "        (m * T**2 * sig_k) ** 2 +\n",
    "        (k * T**2 * sig_m) ** 2 +\n",
    "        (2 * k * m * T * sig_T) ** 2\n",
    "    )\n",
    "    return (I, sig_I)"
   ]
  },
  {
   "cell_type": "code",
   "execution_count": 38,
   "metadata": {},
   "outputs": [
    {
     "name": "stdout",
     "output_type": "stream",
     "text": [
      "Момент инерции пустой платформы: 0.008088583863009795 +- 0.00011779543288051704 м^2*кг\n"
     ]
    }
   ],
   "source": [
    "m_empty = 1066.8 # г\n",
    "sig_m_empty = 0.5\n",
    "\n",
    "I_empty, sig_I_empty = getMomentOfInertia(k, sig_k, m_empty, sig_m_empty, T_empty, sig_T) # мм^2г\n",
    "print('Момент инерции пустой платформы: {} +- {} м^2*кг'.format(\n",
    "    I_empty * 10**-9,\n",
    "    sig_I_empty * 10**-9\n",
    "))\n",
    "\n",
    "\n"
   ]
  },
  {
   "cell_type": "markdown",
   "metadata": {},
   "source": [
    "Таким образом, $I_\\mbox{плат} = 8\\cdot 10^{-3}\\pm 2\\cdot 10^{-4}~\\mbox{м}^2\\cdot\\mbox{кг}$"
   ]
  },
  {
   "cell_type": "markdown",
   "metadata": {},
   "source": [
    "## Измеряем тела"
   ]
  },
  {
   "cell_type": "markdown",
   "metadata": {},
   "source": [
    "### Брусок"
   ]
  },
  {
   "cell_type": "markdown",
   "metadata": {},
   "source": [
    "$m = 1075.1\\pm 0.1$ г\n",
    "\n",
    "$h = 22.0\\pm 0.1$ мм\n",
    "\n",
    "$w = 22.0\\pm 0.1$ мм\n",
    "\n",
    "$l = 204.0\\pm 0.1$ мм"
   ]
  },
  {
   "cell_type": "markdown",
   "metadata": {},
   "source": [
    "Как известно, момент инерции параллелепипеда со сторонами $a, b$ и $c$, массой $m$, равномерной плотностью и осью вращения, параллельной стороне $c$ и проходящей через центр масс, равен\n",
    "$$\n",
    "I_c = \\frac m {12}(a^2 + b^2)\n",
    "$$"
   ]
  },
  {
   "cell_type": "markdown",
   "metadata": {},
   "source": [
    "Подставляя $a = w$, $b = l$ имеем "
   ]
  },
  {
   "cell_type": "code",
   "execution_count": 53,
   "metadata": {},
   "outputs": [
    {
     "name": "stdout",
     "output_type": "stream",
     "text": [
      "Теоретический момент инерции: 0.0037718091666666662 +- 3.6932358185456952e-06 м^2*кг\n"
     ]
    }
   ],
   "source": [
    "m = 1075.1\n",
    "sig_m = 0.1\n",
    "\n",
    "h = 22.0\n",
    "sig_h = 0.1\n",
    "\n",
    "w = 22.0\n",
    "sig_w = 0.1\n",
    "\n",
    "l = 204.0\n",
    "sig_l = 0.1\n",
    "\n",
    "I_t = m / 12 * (w**2 + l**2)\n",
    "sig_I_t = math.sqrt(\n",
    "    ((w**2 + l**2) / 12 * sig_m)**2 +\n",
    "    (w * m / 6 * sig_w)**2 +\n",
    "    (l * m / 6 * sig_l)**2\n",
    ")\n",
    "print('Теоретический момент инерции: {} +- {} м^2*кг'.format(\n",
    "    I_t * 10**-9,\n",
    "    sig_I_t * 10**-9\n",
    "))\n"
   ]
  },
  {
   "cell_type": "markdown",
   "metadata": {},
   "source": [
    "Также рассчитаем экспериментальный момент инерции, исходя из полученного периода:"
   ]
  },
  {
   "cell_type": "code",
   "execution_count": 55,
   "metadata": {},
   "outputs": [
    {
     "name": "stdout",
     "output_type": "stream",
     "text": [
      "Экспереминтальный момент инерции: 0.003983362363796526 +- 0.000294629811710576 м^2*кг\n"
     ]
    }
   ],
   "source": [
    "t_brick = 18.778\n",
    "\n",
    "I, sig_I = getMomentOfInertia(k, sig_k, m + m_empty, sig_m + sig_m_empty, t_brick / N, sig_T)\n",
    "print('Экспереминтальный момент инерции: {} +- {} м^2*кг'.format(\n",
    "    (I - I_empty) * 10**-9,\n",
    "    (sig_I + sig_I_empty) * 10**-9\n",
    "))"
   ]
  },
  {
   "cell_type": "markdown",
   "metadata": {},
   "source": [
    "Итого получаем теоретический момент инерции $3.771 \\cdot 10^{-3}\\pm 4\\cdot 10^{-6}\\mbox{м}^2\\mbox{кг}$, а экспериментальный - $3.9\\cdot 10^{-3}\\pm 3\\cdot 10^{-4}\\mbox{м}^2\\mbox{кг}$, то есть теоретический результат был подтверждён практическим."
   ]
  },
  {
   "cell_type": "markdown",
   "metadata": {},
   "source": [
    "### Кольцо"
   ]
  },
  {
   "cell_type": "markdown",
   "metadata": {},
   "source": [
    "$m = 821.1\\pm0.1$ г\n",
    "\n",
    "$h = 45.7\\pm 0.1$ мм\n",
    "\n",
    "$d = 165\\pm 1$ мм\n",
    "\n",
    "$D = 166\\pm 1$ мм"
   ]
  }
 ],
 "metadata": {
  "kernelspec": {
   "display_name": "Python 3",
   "language": "python",
   "name": "python3"
  },
  "language_info": {
   "codemirror_mode": {
    "name": "ipython",
    "version": 3
   },
   "file_extension": ".py",
   "mimetype": "text/x-python",
   "name": "python",
   "nbconvert_exporter": "python",
   "pygments_lexer": "ipython3",
   "version": "3.6.4"
  }
 },
 "nbformat": 4,
 "nbformat_minor": 2
}
