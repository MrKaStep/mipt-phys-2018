{
 "cells": [
  {
   "cell_type": "markdown",
   "metadata": {},
   "source": [
    "# <center>Работа 1.2 Определение моментов инерции твёрдых тел с помощью трифилярного подвеса</center>"
   ]
  },
  {
   "cell_type": "markdown",
   "metadata": {},
   "source": [
    "## Цель работы:\n",
    "\n",
    "* измерение момента инерции ряда тел и сравнение результатов с расчётами по теоретическим формулам;\n",
    "\n",
    "* проверка аддитивности моментов инерции и справедливости формулы Гюйгенса–Штейнера."
   ]
  },
  {
   "cell_type": "markdown",
   "metadata": {},
   "source": [
    "**В работе используются:** трифилярный подвес, счётчик числа колебаний, секундомер (совмещён со счётчиком), набор тел, момент инерции которых подлежит измерить (разрезанный диск, кольцо, брусок, плоский диск со стержнем в центре)."
   ]
  },
  {
   "cell_type": "markdown",
   "metadata": {},
   "source": [
    "## Теория:"
   ]
  },
  {
   "cell_type": "markdown",
   "metadata": {},
   "source": [
    "Несмотря на то, что для вычисления момента инерции есть вполне конкретная формула: $\\int_V r^2\\rho dV$, в большинстве случаев вычисление этого интеграла не представляется возможным из-за сложной геометрии рассматриваемого тела. В этом случае момент инерции тела можно вычислить экспериментально при помощи трифилярного подвеса:"
   ]
  },
  {
   "cell_type": "markdown",
   "metadata": {},
   "source": [
    "[//]: <> (![Трифилярный подвес](susp-image.png \"Рис.1 Трифилярный подвес\"))\n",
    "<img src=\"susp-image.png\" alt=\"Drawing\" style=\"width: 400px;\"/>"
   ]
  },
  {
   "cell_type": "markdown",
   "metadata": {},
   "source": [
    "Трифилярный подвес позволяет вычислить момент инерции тела, измерив период вращательных колебаний подвеса, на нижней платформе которого расположено исследуемое тело. Уравнение малых колебаний для трифилярного подвеса выглядит следующим образом:\n",
    "$$\n",
    "I\\ddot{\\varphi} + mg\\frac{Rr}{z_0}\\varphi = 0,\n",
    "$$"
   ]
  },
  {
   "cell_type": "markdown",
   "metadata": {},
   "source": [
    "где $I$ — момент инерции тела вместе с платформой, $m$ — их суммарная масса, $z_0$ — расстояние между центрами верхней и нижней платформ в положении равновесия, а $R$ и $r$ — расстояния от оси вращения до точки крепления нити на нижней и на верхней платформах соответственно. Из этого уравнения получается уравнение для момента инерции:\n",
    "$$\n",
    "I = kmT^2,\n",
    "$$\n",
    "где T - период колебаний подвеса с исследуемым телом, а $k = \\displaystyle\\frac{gRr}{4\\pi^2z_0}$ - коэффициент постоянный для установки."
   ]
  },
  {
   "cell_type": "markdown",
   "metadata": {},
   "source": [
    "Из того, что момент инерции - это интеграл некоторой функции по объёму тела, должна иметь место **аддитивность момента инерции**: если два тела $A$ и $B$ имеют общую ось вращения, то момент инерции $I$ составного тела должен равняться сумме моментов инерций:\n",
    "$$\n",
    "I = I_A + I_B\n",
    "$$"
   ]
  },
  {
   "cell_type": "markdown",
   "metadata": {},
   "source": [
    "Для вычисления момента инерции относительно произвольной оси, при условии, что известен момент инерции тела относительно оси, параллельной данной и проходящей через центр масс, используется **теорема Гюйгенса-Штейнера**:\n",
    "$$\n",
    "I = I_0 + ma_0^2,\n",
    "$$\n",
    "где $I$ - момент инерции тела относительно рассматриваемой оси, $I_0$ - известный ранее момент инерции, $a_0$ - расстояние между осями, $m$ - масса рассматриваемого тела.\n"
   ]
  },
  {
   "cell_type": "markdown",
   "metadata": {},
   "source": [
    "## Обработка результатов"
   ]
  },
  {
   "cell_type": "markdown",
   "metadata": {},
   "source": [
    "### Параметры установки"
   ]
  },
  {
   "cell_type": "markdown",
   "metadata": {},
   "source": [
    "\n",
    "$r = 30.2\\pm 0.3$ мм - радиус верхней платформы;\n",
    "\n",
    "$R = 114.6\\pm 0.5$ мм - радиус нижней платформы;\n",
    "\n",
    "$z_0 = 2150\\pm 20$ мм - расстояние между платформами;\n",
    "\n",
    "$M_0 = 1066.8\\pm 0.5$ г - масса нижней платформы;\n",
    "\n",
    "$\\pi = 3.14159265\\pm 10^{-8}$;\n",
    "\n",
    "$g = 9.8\\pm 0.1$ м/с."
   ]
  },
  {
   "cell_type": "markdown",
   "metadata": {},
   "source": [
    "Посчитаем погрешность вычисления коэффициента $k$:\n",
    "$$\n",
    "\\sigma_k = \\sqrt{\n",
    "    \\left(\\frac{gR}{4\\pi^2z_0} \\sigma_r\\right)^2 +\n",
    "    \\left(\\frac{gr}{4\\pi^2z_0} \\sigma_R\\right)^2 +\n",
    "    \\left(\\frac{gRr}{4\\pi^2z_0^2}\\sigma_{z_0}\\right)^2 + \n",
    "    \\left(2\\frac{gRr}{4\\pi^3z_0}\\sigma_\\pi\\right)\n",
    "}\n",
    "$$"
   ]
  },
  {
   "cell_type": "code",
   "execution_count": 1,
   "metadata": {},
   "outputs": [
    {
     "name": "stdout",
     "output_type": "stream",
     "text": [
      "k: 399.59444355693995 +- 5.7108313304674825 мм^2/с^2\n"
     ]
    }
   ],
   "source": [
    "import numpy as np\n",
    "import pandas as pd\n",
    "import matplotlib.pyplot as plt\n",
    "import math\n",
    "\n",
    "\n",
    "r = 30.2\n",
    "sig_r = 0.3\n",
    "\n",
    "R = 114.6\n",
    "sig_R = 0.5\n",
    "\n",
    "z_0 = 2150\n",
    "sig_z = 20\n",
    "\n",
    "pi = 3.14159265\n",
    "sig_pi = 10**-8\n",
    "\n",
    "g = 9.8 * 10**3 # мм/с^2\n",
    "sig_g = 0.1 * 10**3\n",
    "\n",
    "k = g * R * r / (4 * pi**2 * z_0)\n",
    "\n",
    "sig_k = math.sqrt(\n",
    "    (k / r * sig_r) ** 2 +\n",
    "    (k / R * sig_R) ** 2 +\n",
    "    (k / z_0 * sig_z) ** 2 + \n",
    "    (2 * k / pi * sig_pi) ** 2\n",
    ")\n",
    "\n",
    "print('k: {} +- {} мм^2/с^2'.format(k, sig_k))"
   ]
  },
  {
   "cell_type": "markdown",
   "metadata": {},
   "source": [
    "Таким образом, $k = 400\\frac{\\mbox{мм}^2}{\\mbox{с}^2} = 4\\cdot 10^{-4}\\frac{\\mbox{м}^2}{\\mbox{с}^2}$, $\\sigma_k\\approx 6\\frac{\\mbox{мм}^2}{\\mbox{с}^2} = 6\\cdot 10^{-6}\\frac{\\mbox{м}^2}{\\mbox{с}^2}$."
   ]
  },
  {
   "cell_type": "markdown",
   "metadata": {},
   "source": [
    "### Пустая установка, необходимое количество периодов"
   ]
  },
  {
   "cell_type": "markdown",
   "metadata": {},
   "source": [
    "Для достижения необходимой относительной погрешности измерения периода колебаний в $0.5\\%$ нужно число периодов $N$, необходимое для достижения данной погрешности. Для начала необходимо рассчитать погрешность измерения полного времени колебаний $\\sigma_t$. Для этого были 7 раз проведены замеры времени колебаний в $n=10$ периодов на пустой установке: "
   ]
  },
  {
   "cell_type": "code",
   "execution_count": 2,
   "metadata": {},
   "outputs": [
    {
     "name": "stdout",
     "output_type": "stream",
     "text": [
      "Среднеквадратичное отклонение t: 0.03005573054802589\n",
      "Расчётное количество периодов:  1.379978314407029\n"
     ]
    }
   ],
   "source": [
    "n = 10\n",
    "t_empty = np.array([43.565, 43.559, 43.502, 43.532, 43.585, 43.590, 43.585])\n",
    "sig_t = np.std(t_empty)\n",
    "print('Среднеквадратичное отклонение t: {}'.format(sig_t))\n",
    "\n",
    "T_empty = np.mean(t_empty) / n\n",
    "sig_T = sig_t / n\n",
    "\n",
    "N = sig_t / (0.005 * T_empty)\n",
    "print('Расчётное количество периодов: ', N)\n"
   ]
  },
  {
   "cell_type": "markdown",
   "metadata": {},
   "source": [
    "Для большей уверенности будем рассматривать не 2 периода, как говорят расчёты, а 5."
   ]
  },
  {
   "cell_type": "code",
   "execution_count": 3,
   "metadata": {},
   "outputs": [
    {
     "name": "stdout",
     "output_type": "stream",
     "text": [
      "Относительная погрешность: 0.1379978314407029%\n"
     ]
    }
   ],
   "source": [
    "N = 5\n",
    "sig_T = sig_t / N\n",
    "eps_T = sig_t / (N * T_empty)\n",
    "print('Относительная погрешность: {}%'.format(eps_T * 100))\n"
   ]
  },
  {
   "cell_type": "markdown",
   "metadata": {},
   "source": [
    "Итого имеем $\\varepsilon_T \\approx 0.14\\% = 1.4\\cdot 10^{-3}$."
   ]
  },
  {
   "cell_type": "markdown",
   "metadata": {},
   "source": [
    "Теперь рассчитаем момент инерции для пустой платформы:"
   ]
  },
  {
   "cell_type": "code",
   "execution_count": 4,
   "metadata": {},
   "outputs": [],
   "source": [
    "def getMomentOfInertia(k, sig_k, m, sig_m, T, sig_T):\n",
    "    I = k * m * T**2\n",
    "    sig_I = math.sqrt(\n",
    "        (m * T**2 * sig_k) ** 2 +\n",
    "        (k * T**2 * sig_m) ** 2 +\n",
    "        (2 * k * m * T * sig_T) ** 2\n",
    "    )\n",
    "    return (I, sig_I)"
   ]
  },
  {
   "cell_type": "code",
   "execution_count": 5,
   "metadata": {},
   "outputs": [
    {
     "name": "stdout",
     "output_type": "stream",
     "text": [
      "Момент инерции пустой платформы: 0.008088583863009795 +- 0.00011779543288051704 м^2*кг\n"
     ]
    }
   ],
   "source": [
    "m_empty = 1066.8 # г\n",
    "sig_m_empty = 0.5\n",
    "\n",
    "I_empty, sig_I_empty = getMomentOfInertia(k, sig_k, m_empty, sig_m_empty, T_empty, sig_T) # мм^2г\n",
    "print('Момент инерции пустой платформы: {} +- {} м^2*кг'.format(\n",
    "    I_empty * 10**-9,\n",
    "    sig_I_empty * 10**-9\n",
    "))\n",
    "\n",
    "\n"
   ]
  },
  {
   "cell_type": "markdown",
   "metadata": {},
   "source": [
    "Таким образом, $I_\\mbox{плат} = 8\\cdot 10^{-3}\\pm 2\\cdot 10^{-4}~\\mbox{м}^2\\cdot\\mbox{кг}$"
   ]
  },
  {
   "cell_type": "markdown",
   "metadata": {},
   "source": [
    "## Измеряем тела"
   ]
  },
  {
   "cell_type": "markdown",
   "metadata": {},
   "source": [
    "### Брусок"
   ]
  },
  {
   "cell_type": "markdown",
   "metadata": {},
   "source": [
    "$m = 1075.1\\pm 0.1$ г\n",
    "\n",
    "$h = 22.0\\pm 0.1$ мм\n",
    "\n",
    "$w = 22.0\\pm 0.1$ мм\n",
    "\n",
    "$l = 204.0\\pm 0.1$ мм"
   ]
  },
  {
   "cell_type": "markdown",
   "metadata": {},
   "source": [
    "Как известно, момент инерции параллелепипеда со сторонами $a, b$ и $c$, массой $m$, равномерной плотностью и осью вращения, параллельной стороне $c$ и проходящей через центр масс, равен\n",
    "$$\n",
    "I_c = \\frac m {12}(a^2 + b^2)\n",
    "$$"
   ]
  },
  {
   "cell_type": "markdown",
   "metadata": {},
   "source": [
    "Подставляя $a = w$, $b = l$ имеем "
   ]
  },
  {
   "cell_type": "code",
   "execution_count": 6,
   "metadata": {},
   "outputs": [
    {
     "name": "stdout",
     "output_type": "stream",
     "text": [
      "Теоретический момент инерции: 0.0037718091666666662 +- 3.6932358185456952e-06 м^2*кг\n"
     ]
    }
   ],
   "source": [
    "m_brick = 1075.1\n",
    "sig_m_brick = 0.1\n",
    "\n",
    "h_brick = 22.0\n",
    "sig_h_brick = 0.1\n",
    "\n",
    "w_brick = 22.0\n",
    "sig_w_brick = 0.1\n",
    "\n",
    "l_brick = 204.0\n",
    "sig_l_brick = 0.1\n",
    "\n",
    "I_t_brick = m_brick / 12 * (w_brick**2 + l_brick**2)\n",
    "sig_I_t_brick = math.sqrt(\n",
    "    ((w_brick**2 + l_brick**2) / 12 * sig_m_brick)**2 +\n",
    "    (w_brick * m_brick / 6 * sig_w_brick)**2 +\n",
    "    (l_brick * m_brick / 6 * sig_l_brick)**2\n",
    ")\n",
    "print('Теоретический момент инерции: {} +- {} м^2*кг'.format(\n",
    "    I_t_brick * 10**-9,\n",
    "    sig_I_t_brick * 10**-9\n",
    "))\n"
   ]
  },
  {
   "cell_type": "markdown",
   "metadata": {},
   "source": [
    "Также рассчитаем экспериментальный момент инерции, исходя из полученного времени $N$ периодов $t = 18.778\\pm\\sigma_t$ с:"
   ]
  },
  {
   "cell_type": "code",
   "execution_count": 7,
   "metadata": {},
   "outputs": [
    {
     "name": "stdout",
     "output_type": "stream",
     "text": [
      "Экспериментальный момент инерции: 0.003983362363796526 +- 0.000294629811710576 м^2*кг\n"
     ]
    }
   ],
   "source": [
    "t_brick = 18.778\n",
    "\n",
    "I_brick, sig_I_brick = getMomentOfInertia(\n",
    "    k, sig_k, \n",
    "    m_brick + m_empty, sig_m_brick + sig_m_empty, \n",
    "    t_brick / N, sig_T)\n",
    "print('Экспериментальный момент инерции: {} +- {} м^2*кг'.format(\n",
    "    (I_brick - I_empty) * 10**-9,\n",
    "    (sig_I_brick + sig_I_empty) * 10**-9\n",
    "))"
   ]
  },
  {
   "cell_type": "markdown",
   "metadata": {},
   "source": [
    "Итого получаем теоретический момент инерции $3.771 \\cdot 10^{-3}\\pm 4\\cdot 10^{-6}\\mbox{м}^2\\mbox{кг}$, а экспериментальный - $3.9\\cdot 10^{-3}\\pm 3\\cdot 10^{-4}\\mbox{м}^2\\mbox{кг}$, то есть теоретический результат был подтверждён практическим."
   ]
  },
  {
   "cell_type": "markdown",
   "metadata": {},
   "source": [
    "### Кольцо"
   ]
  },
  {
   "cell_type": "markdown",
   "metadata": {},
   "source": [
    "$m = 821.1\\pm0.1$ г\n",
    "\n",
    "$h = 45.7\\pm 0.1$ - высота\n",
    "\n",
    "$D = \\frac{165 + 166}{2}\\pm 1$ мм - внешний диаметр\n",
    "\n",
    "$w = 5.4\\pm 0.1$ мм - толщина\n"
   ]
  },
  {
   "cell_type": "markdown",
   "metadata": {},
   "source": [
    "Сначала выведем формулу момента инерции для кольца:\n",
    "$$\n",
    "I = \\int_{R_1}^{R_2} dr\\int_0^h dz\\int_0^{2\\pi}r^2\\rho d\\varphi = 2\\pi h\\rho\\int_{R_1}^{R_2}r^3 dr = \\frac 1 2\\pi h r(R_2^4-R_1^4) = \\frac 1 2 m(R_2^2 + R_1^2)\n",
    "$$"
   ]
  },
  {
   "cell_type": "markdown",
   "metadata": {},
   "source": [
    "Теперь, вычислим теоретический момент инерции:"
   ]
  },
  {
   "cell_type": "code",
   "execution_count": 8,
   "metadata": {},
   "outputs": [
    {
     "name": "stdout",
     "output_type": "stream",
     "text": [
      "Теоретический момент инерции: 0.00544207221075 +- 4.961348835115023e-05 м^2*кг\n"
     ]
    }
   ],
   "source": [
    "def getRingMomentOfInertia(m, sig_m, R_1, sig_R_1, R_2, sig_R_2):\n",
    "    I = 0.5 * m * (R_2**2 + R_1**2)\n",
    "    sig_I = math.sqrt(\n",
    "        (0.5 * (R_2**2 + R_1**2) * sig_m)**2 + \\\n",
    "        (m * R_2 * sig_R_2)**2 + \\\n",
    "        (m * R_1 * sig_R_1)**2\n",
    "    )\n",
    "    return I, sig_I\n",
    "\n",
    "m_ring = 821.1\n",
    "sig_m_ring = 0.1\n",
    "\n",
    "R_2_ring = (165 + 166) / 2 / 2\n",
    "sig_R_2_ring = 0.5\n",
    "\n",
    "R_1_ring = R_2_ring - 5.4 / 2\n",
    "sig_R_1_ring = sig_R_2_ring + 0.05\n",
    "\n",
    "I_t_ring, sig_I_t_ring = getRingMomentOfInertia(\n",
    "    m_ring, sig_m_ring,\n",
    "    R_1_ring, sig_R_1_ring,\n",
    "    R_2_ring, sig_R_2_ring\n",
    ")\n",
    "\n",
    "print('Теоретический момент инерции: {} +- {} м^2*кг'.format(\n",
    "    I_t_ring * 10**-9,\n",
    "    sig_I_t_ring * 10**-9\n",
    "))"
   ]
  },
  {
   "cell_type": "markdown",
   "metadata": {},
   "source": [
    "Теперь рассчитаем экспериментальный момент инерции, исходя из времени $N$ периодов $t = 21.129\\pm\\sigma_t$ с:"
   ]
  },
  {
   "cell_type": "code",
   "execution_count": 9,
   "metadata": {},
   "outputs": [
    {
     "name": "stdout",
     "output_type": "stream",
     "text": [
      "Экспериментальный момент инерции: 0.005382926969419249 +- 0.0003141487973868528 м^2*кг\n"
     ]
    }
   ],
   "source": [
    "t_ring = 21.129\n",
    "\n",
    "I_ring, sig_I_ring = getMomentOfInertia(\n",
    "    k, sig_k,\n",
    "    m_ring + m_empty, sig_m_ring + sig_m_empty,\n",
    "    t_ring / N, sig_T\n",
    ")\n",
    "print('Экспериментальный момент инерции: {} +- {} м^2*кг'.format(\n",
    "    (I_ring - I_empty) * 10**-9,\n",
    "    (sig_I_ring + sig_I_empty) * 10**-9\n",
    "))"
   ]
  },
  {
   "cell_type": "markdown",
   "metadata": {},
   "source": [
    "Таким образом, теоретически момент инерции кольца составляет $5.44 \\cdot 10^{-3} \\pm 5\\cdot 10^{-5}\\mbox{м}^2\\mbox{кг}$, а экспериментальный - $5.3\\cdot 10^{-3}\\pm 4\\cdot 10^{-4}\\mbox{м}^2\\mbox{кг}$, то есть эксперимент подтвердил теоретический результат"
   ]
  },
  {
   "cell_type": "markdown",
   "metadata": {},
   "source": [
    "### Брусок+кольцо"
   ]
  },
  {
   "cell_type": "markdown",
   "metadata": {},
   "source": [
    "Проверим, выполняется ли аддитивность моментов инерции, разместив на платформе брусок и кольцо:"
   ]
  },
  {
   "cell_type": "code",
   "execution_count": 10,
   "metadata": {},
   "outputs": [
    {
     "name": "stdout",
     "output_type": "stream",
     "text": [
      "Теоретический момент инерции: 0.009213881377416668 +- 5.330672416969593e-05 м^2*кг\n",
      "Экспериментальный момент инерции: 0.009219562686822586 +- 0.0003711053351576946 м^2*кг\n"
     ]
    }
   ],
   "source": [
    "I_t_br = I_t_brick + I_t_ring\n",
    "sig_I_t_br = sig_I_t_brick + sig_I_t_ring\n",
    "\n",
    "m_br = m_brick + m_ring\n",
    "sig_m_br = sig_m_brick + sig_m_ring\n",
    "\n",
    "print('Теоретический момент инерции: {} +- {} м^2*кг'.format(\n",
    "    I_t_br * 10**-9,\n",
    "    sig_I_t_br * 10**-9\n",
    "))\n",
    "\n",
    "t_br = 19.117\n",
    "\n",
    "I_br, sig_I_br = getMomentOfInertia(\n",
    "    k, sig_k,\n",
    "    m_br + m_empty, sig_m_br + sig_m_empty,\n",
    "    t_br / N, sig_T\n",
    ")\n",
    "\n",
    "print('Экспериментальный момент инерции: {} +- {} м^2*кг'.format(\n",
    "    (I_br - I_empty) * 10**-9,\n",
    "    (sig_I_br + sig_I_empty) * 10**-9\n",
    "))\n",
    "\n"
   ]
  },
  {
   "cell_type": "markdown",
   "metadata": {},
   "source": [
    "Теоретический момент инерции равен $9.21\\cdot 10^{-3}\\pm 6\\cdot 10^{-5}м^2кг$, практический - $9.21\\cdot 10^{-3}\\pm 3.7\\cdot 10^{-4}мм^2кг$, что подтверждает аддитивность момента инерции"
   ]
  },
  {
   "cell_type": "markdown",
   "metadata": {},
   "source": [
    "### Диск-\"Шляпа\""
   ]
  },
  {
   "cell_type": "markdown",
   "metadata": {},
   "source": [
    "$m = 580.6\\pm 0.1$ г\n",
    "\n",
    "$D = \\frac{169+169+170} 3\\pm 1$ мм - диаметр диска\n",
    "\n",
    "$h = 3.4\\pm 0.1$ мм - толщина диска\n",
    "\n",
    "По формуле из предыдущего пункта имеем \n",
    "$$\n",
    "I = \\frac 1 2 m R^2\n",
    "$$"
   ]
  },
  {
   "cell_type": "code",
   "execution_count": 11,
   "metadata": {},
   "outputs": [
    {
     "name": "stdout",
     "output_type": "stream",
     "text": [
      "Теоретический момент инерции: 0.0020809994222222225 +- 2.4581346561173047e-05 м^2*кг\n"
     ]
    }
   ],
   "source": [
    "m_hat = 580.6\n",
    "sig_m_hat = 0.1\n",
    "\n",
    "D_hat = (169 + 169 + 170) / 3\n",
    "sig_D_hat = 1\n",
    "\n",
    "R_hat = D_hat / 2\n",
    "sig_R_hat = sig_D_hat / 2\n",
    "\n",
    "I_t_hat, sig_I_t_hat = getRingMomentOfInertia(\n",
    "    m_hat, sig_m_hat,\n",
    "    0, 0,\n",
    "    R_hat, sig_R_hat\n",
    ")\n",
    "\n",
    "print('Теоретический момент инерции: {} +- {} м^2*кг'.format(\n",
    "    I_t_hat * 10**-9,\n",
    "    sig_I_t_hat * 10**-9\n",
    "))"
   ]
  },
  {
   "cell_type": "markdown",
   "metadata": {},
   "source": [
    "Рассчитаем экспериментальный момент инерции исходя из времени $t = 19.568\\pm \\sigma_t$ с $N$ колебаний"
   ]
  },
  {
   "cell_type": "code",
   "execution_count": 12,
   "metadata": {},
   "outputs": [
    {
     "name": "stdout",
     "output_type": "stream",
     "text": [
      "Экспериментальный момент инерции: 0.0019939890888197114 +- 0.0002652281331451372 м^2*кг\n"
     ]
    }
   ],
   "source": [
    "t_hat = 19.568\n",
    "\n",
    "I_hat, sig_I_hat = getMomentOfInertia(\n",
    "    k, sig_k,\n",
    "    m_hat + m_empty, sig_m_hat + sig_m_empty,\n",
    "    t_hat / N, sig_T\n",
    ")\n",
    "print('Экспериментальный момент инерции: {} +- {} м^2*кг'.format(\n",
    "    (I_hat - I_empty) * 10**-9,\n",
    "    (sig_I_hat + sig_I_empty) * 10**-9\n",
    "))"
   ]
  },
  {
   "cell_type": "markdown",
   "metadata": {},
   "source": [
    "Итого теоретический момент инерции составляет $2\\cdot 10^{-3}\\pm 3\\cdot 10^{-5}$, а экспериментальный - $1.9\\cdot 10^{-3}\\pm 3\\cdot 10^{-4}$, то есть теоретический результат подтверждён практическим."
   ]
  },
  {
   "cell_type": "markdown",
   "metadata": {},
   "source": [
    "### Два полдиска"
   ]
  },
  {
   "cell_type": "markdown",
   "metadata": {},
   "source": [
    "$m = 2\\cdot(721.3\\pm 0.1)$ г\n",
    "\n",
    "$D = \\frac{90.0 + 90.0 + 90.0 + 90.1} 4\\pm 0.1$ мм - диаметр диска\n",
    "\n",
    "$h = 27.2\\pm 0.1$ мм - высота диска"
   ]
  },
  {
   "cell_type": "markdown",
   "metadata": {},
   "source": [
    "Рассчитываем теоретический момент инерции аналогично предыдущему пункту:"
   ]
  },
  {
   "cell_type": "code",
   "execution_count": 13,
   "metadata": {},
   "outputs": [
    {
     "name": "stdout",
     "output_type": "stream",
     "text": [
      "Теоретический момент инерции: 0.001461444075203125 +- 3.2530674671651114e-06 м^2*кг\n"
     ]
    }
   ],
   "source": [
    "m_disk = 721.3*2\n",
    "sig_m_disk = 0.2\n",
    "\n",
    "D_disk = (90.0 + 90.0 + 90.0 + 90.1) / 4\n",
    "sig_D_disk = 0.1\n",
    "\n",
    "R_disk = D_disk / 2\n",
    "sig_R_disk = sig_D_disk / 2\n",
    "\n",
    "I_t_disk, sig_I_t_disk = getRingMomentOfInertia(\n",
    "    m_disk, sig_m_disk,\n",
    "    0, 0,\n",
    "    R_disk, sig_R_disk\n",
    ")\n",
    "\n",
    "print('Теоретический момент инерции: {} +- {} м^2*кг'.format(\n",
    "    I_t_disk * 10**-9,\n",
    "    sig_I_t_disk * 10**-9\n",
    "))"
   ]
  },
  {
   "cell_type": "markdown",
   "metadata": {},
   "source": [
    "Теперь рассчитаем моменты инерции, полученный для разных сдвигов половинок диска: изначально половинки диска образуют ровно диск, затем на каждом шаге сдвигаются на $5$ мм от центра платформы в противоположных направлениях:"
   ]
  },
  {
   "cell_type": "code",
   "execution_count": 21,
   "metadata": {},
   "outputs": [],
   "source": [
    "def line_coeff_sig(x, y):\n",
    "    best_line = np.polyfit(x, y, 1)\n",
    "    return 1 / math.sqrt(len(x)) * math.sqrt(np.var(np.array(y)) / np.var(np.array(x)) - best_line[0]**2)"
   ]
  },
  {
   "cell_type": "code",
   "execution_count": 37,
   "metadata": {
    "scrolled": false
   },
   "outputs": [
    {
     "name": "stdout",
     "output_type": "stream",
     "text": [
      "[0.14103825 1.59533654]\n",
      "I = (1.410382499+-0.009405715)h^2 + (1.595337+-0.002695)\n"
     ]
    },
    {
     "data": {
      "image/png": "[encoded data removed]",
      "text/plain": [
       "<matplotlib.figure.Figure at 0x7f9b133d5240>"
      ]
     },
     "metadata": {},
     "output_type": "display_data"
    }
   ],
   "source": [
    "t_disk = np.array([15.500, 15.694, 15.719, 15.789, 15.930, 16.228, 16.521, 16.835, 17.227, 17.663, 18.087, 18.672, 19.203, 19.643, 20.419, 21.006, 21.582])\n",
    "\n",
    "x = np.array([(5 * i) ** 2 / 100 for i in range(len(t_disk))]) # h^2, см^2\n",
    "\n",
    "I_disk = [getMomentOfInertia(\n",
    "    k, sig_k,\n",
    "    m_disk + m_empty, sig_m_disk + sig_m_empty,\n",
    "    t / N, sig_t\n",
    ") for t in t_disk]\n",
    "\n",
    "y = np.array([round(i - I_empty, 2) * 10**-6 for i, sig in I_disk]) # I, г*мм^2\n",
    "\n",
    "sig_y = np.array([math.ceil((sig + sig_I_empty) * 10**-4) / 100 for i, sig in I_disk])\n",
    "\n",
    "plt.figure(figsize=(18, 9))\n",
    "\n",
    "plt.xlabel('$h^2, см^2$')\n",
    "plt.ylabel('$I, г\\cdot мм^2$')\n",
    "plt.grid()\n",
    "plt.errorbar(x, y, fmt='bo', yerr=sig_y)\n",
    "line = np.polyfit(x, y, 1)\n",
    "sig_m_disk_fit = line_coeff_sig(x, y)\n",
    "sig_I_disk_fit = sig_m_disk_fit * math.sqrt(np.var(y))\n",
    "# print(sig_I_disk_fit, sig_m_disk_fit)\n",
    "plt.plot(x, np.poly1d(line)(x), 'r')\n",
    "\n",
    "print(line)\n",
    "print('I = ({:.9f}+-{:.9f})h^2 + ({:.6f}+-{:.6f})'.format(\n",
    "    line[0] * 10, sig_m_disk_fit * 10,\n",
    "    line[1], sig_I_disk_fit\n",
    "))\n",
    "data_raw = list(zip(x, y, sig_y))\n",
    "\n",
    "pd.set_option('precision', 2)\n",
    "\n",
    "halfdisk_inertia = pd.DataFrame(data=data_raw, \n",
    "                                columns=['$h^2, см^2$', '$I, г\\cdot м^2$', '$\\sigma_I, г\\cdot м^2$'])"
   ]
  },
  {
   "cell_type": "code",
   "execution_count": 40,
   "metadata": {},
   "outputs": [
    {
     "name": "stdout",
     "output_type": "stream",
     "text": [
      "0.006442352540027598\n"
     ]
    }
   ],
   "source": [
    "m_max = ((y[-1] + sig_y[-1]) - (y[0] - sig_y[0])) / (x[-1] - x[0])\n",
    "m_min = ((y[-1] - sig_y[-1]) - (y[0] + sig_y[0])) / (x[-1] - x[0])\n",
    "print((m_max - m_min) / math.sqrt(len(x)))"
   ]
  },
  {
   "cell_type": "code",
   "execution_count": 36,
   "metadata": {
    "scrolled": false
   },
   "outputs": [
    {
     "data": {
      "text/html": [
       "<div>\n",
       "<style scoped>\n",
       "    .dataframe tbody tr th:only-of-type {\n",
       "        vertical-align: middle;\n",
       "    }\n",
       "\n",
       "    .dataframe tbody tr th {\n",
       "        vertical-align: top;\n",
       "    }\n",
       "\n",
       "    .dataframe thead th {\n",
       "        text-align: right;\n",
       "    }\n",
       "</style>\n",
       "<table border=\"1\" class=\"dataframe\">\n",
       "  <thead>\n",
       "    <tr style=\"text-align: right;\">\n",
       "      <th></th>\n",
       "      <th>$h^2, см^2$</th>\n",
       "      <th>$I, г\\cdot м^2$</th>\n",
       "      <th>$\\sigma_I, г\\cdot м^2$</th>\n",
       "    </tr>\n",
       "  </thead>\n",
       "  <tbody>\n",
       "    <tr>\n",
       "      <th>0</th>\n",
       "      <td>0.00</td>\n",
       "      <td>1.55</td>\n",
       "      <td>0.35</td>\n",
       "    </tr>\n",
       "    <tr>\n",
       "      <th>1</th>\n",
       "      <td>0.25</td>\n",
       "      <td>1.79</td>\n",
       "      <td>0.36</td>\n",
       "    </tr>\n",
       "    <tr>\n",
       "      <th>2</th>\n",
       "      <td>1.00</td>\n",
       "      <td>1.82</td>\n",
       "      <td>0.36</td>\n",
       "    </tr>\n",
       "    <tr>\n",
       "      <th>3</th>\n",
       "      <td>2.25</td>\n",
       "      <td>1.91</td>\n",
       "      <td>0.36</td>\n",
       "    </tr>\n",
       "    <tr>\n",
       "      <th>4</th>\n",
       "      <td>4.00</td>\n",
       "      <td>2.09</td>\n",
       "      <td>0.36</td>\n",
       "    </tr>\n",
       "    <tr>\n",
       "      <th>5</th>\n",
       "      <td>6.25</td>\n",
       "      <td>2.47</td>\n",
       "      <td>0.37</td>\n",
       "    </tr>\n",
       "    <tr>\n",
       "      <th>6</th>\n",
       "      <td>9.00</td>\n",
       "      <td>2.86</td>\n",
       "      <td>0.38</td>\n",
       "    </tr>\n",
       "    <tr>\n",
       "      <th>7</th>\n",
       "      <td>12.25</td>\n",
       "      <td>3.28</td>\n",
       "      <td>0.38</td>\n",
       "    </tr>\n",
       "    <tr>\n",
       "      <th>8</th>\n",
       "      <td>16.00</td>\n",
       "      <td>3.81</td>\n",
       "      <td>0.39</td>\n",
       "    </tr>\n",
       "    <tr>\n",
       "      <th>9</th>\n",
       "      <td>20.25</td>\n",
       "      <td>4.42</td>\n",
       "      <td>0.40</td>\n",
       "    </tr>\n",
       "    <tr>\n",
       "      <th>10</th>\n",
       "      <td>25.00</td>\n",
       "      <td>5.03</td>\n",
       "      <td>0.41</td>\n",
       "    </tr>\n",
       "    <tr>\n",
       "      <th>11</th>\n",
       "      <td>30.25</td>\n",
       "      <td>5.90</td>\n",
       "      <td>0.42</td>\n",
       "    </tr>\n",
       "    <tr>\n",
       "      <th>12</th>\n",
       "      <td>36.00</td>\n",
       "      <td>6.70</td>\n",
       "      <td>0.44</td>\n",
       "    </tr>\n",
       "    <tr>\n",
       "      <th>13</th>\n",
       "      <td>42.25</td>\n",
       "      <td>7.39</td>\n",
       "      <td>0.45</td>\n",
       "    </tr>\n",
       "    <tr>\n",
       "      <th>14</th>\n",
       "      <td>49.00</td>\n",
       "      <td>8.63</td>\n",
       "      <td>0.47</td>\n",
       "    </tr>\n",
       "    <tr>\n",
       "      <th>15</th>\n",
       "      <td>56.25</td>\n",
       "      <td>9.61</td>\n",
       "      <td>0.48</td>\n",
       "    </tr>\n",
       "    <tr>\n",
       "      <th>16</th>\n",
       "      <td>64.00</td>\n",
       "      <td>10.59</td>\n",
       "      <td>0.50</td>\n",
       "    </tr>\n",
       "  </tbody>\n",
       "</table>\n",
       "</div>"
      ],
      "text/plain": [
       "    $h^2, см^2$  $I, г\\cdot м^2$  $\\sigma_I, г\\cdot м^2$\n",
       "0          0.00             1.55                    0.35\n",
       "1          0.25             1.79                    0.36\n",
       "2          1.00             1.82                    0.36\n",
       "3          2.25             1.91                    0.36\n",
       "4          4.00             2.09                    0.36\n",
       "5          6.25             2.47                    0.37\n",
       "6          9.00             2.86                    0.38\n",
       "7         12.25             3.28                    0.38\n",
       "8         16.00             3.81                    0.39\n",
       "9         20.25             4.42                    0.40\n",
       "10        25.00             5.03                    0.41\n",
       "11        30.25             5.90                    0.42\n",
       "12        36.00             6.70                    0.44\n",
       "13        42.25             7.39                    0.45\n",
       "14        49.00             8.63                    0.47\n",
       "15        56.25             9.61                    0.48\n",
       "16        64.00            10.59                    0.50"
      ]
     },
     "execution_count": 36,
     "metadata": {},
     "output_type": "execute_result"
    }
   ],
   "source": [
    "halfdisk_inertia"
   ]
  },
  {
   "cell_type": "markdown",
   "metadata": {},
   "source": [
    "Приведённые данные подтверждают рост момента инерции пропорционально квадрату расстояния от оси до центра масс, что является практическим доказательством теоремы Гюйгенса-Штейнера."
   ]
  },
  {
   "cell_type": "markdown",
   "metadata": {},
   "source": [
    "## Вывод"
   ]
  },
  {
   "cell_type": "markdown",
   "metadata": {},
   "source": [
    "Результаты, полученные в ходе работы, наглядно демонстрируют корректность вычисления момента инерции при помощи трифилярного подвеса и подтверждают выполнение закона сложения моментов и теоремы Гюйгенса-Штейнера."
   ]
  }
 ],
 "metadata": {
  "kernelspec": {
   "display_name": "Python 3",
   "language": "python",
   "name": "python3"
  },
  "language_info": {
   "codemirror_mode": {
    "name": "ipython",
    "version": 3
   },
   "file_extension": ".py",
   "mimetype": "text/x-python",
   "name": "python",
   "nbconvert_exporter": "python",
   "pygments_lexer": "ipython3",
   "version": "3.6.4"
  }
 },
 "nbformat": 4,
 "nbformat_minor": 2
}
